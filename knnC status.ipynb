{
 "cells": [
  {
   "cell_type": "code",
   "execution_count": 1,
   "metadata": {},
   "outputs": [],
   "source": [
    "# Installation des pycoSHARKs\n",
    "import sys\n",
    "# !{sys.executable} -m pip install pycoshark\n",
    "# !{sys.executable} -m pip install scikit-learn\n"
   ]
  },
  {
   "cell_type": "code",
   "execution_count": 2,
   "metadata": {},
   "outputs": [
    {
     "name": "stderr",
     "output_type": "stream",
     "text": [
      "C:\\Users\\Paul\\AppData\\Local\\Temp\\ipykernel_7580\\747591074.py:9: DeprecationWarning: `import pandas_profiling` is going to be deprecated by April 1st. Please use `import ydata_profiling` instead.\n",
      "  import pandas_profiling as pp\n"
     ]
    }
   ],
   "source": [
    "# Data Manipulation\n",
    "from mongoengine import connect, disconnect\n",
    "from pycoshark.mongomodels import File, FileAction, Commit, Project, VCSSystem, IssueSystem,Hunk, Refactoring, IssueSystem, Issue, IssueComment, MailingList, Message\n",
    "from pycoshark.utils import create_mongodb_uri_string\n",
    "import pandas as pd\n",
    "import numpy as np\n",
    "\n",
    "# DataViz\n",
    "import pandas_profiling as pp\n",
    "import seaborn as sns\n",
    "import matplotlib.pyplot as plt\n",
    "\n",
    "# Modeling\n",
    "from sklearn.model_selection import train_test_split\n",
    "from sklearn.linear_model import LinearRegression\n",
    "from sklearn.neighbors import KNeighborsRegressor, KNeighborsClassifier\n",
    "from sklearn import metrics\n",
    "\n",
    "from sklearn.metrics import mean_squared_error \n",
    "from math import sqrt\n",
    "\n",
    "# Database credentials\n",
    "user = 'grundlagenki2021'\n",
    "password = '38BTGx71d'\n",
    "host = '134.76.81.151'\n",
    "port = '27017'\n",
    "authentication_db = 'smartshark'\n",
    "database = \"smartshark\"\n",
    "ssl_enabled = None\n",
    "\n",
    "# Establish connection\n",
    "uri = create_mongodb_uri_string(user, password, host, port, authentication_db, ssl_enabled)\n",
    "connect(database, host=uri)\n",
    "\n",
    "pd.options.display.max_rows = 10000\n",
    "pd.options.display.max_columns = 100\n",
    "pd.options.display.float_format = '{:.2f}'.format"
   ]
  },
  {
   "cell_type": "code",
   "execution_count": 3,
   "metadata": {},
   "outputs": [
    {
     "name": "stdout",
     "output_type": "stream",
     "text": [
      "readcalcite\n",
      "1\n",
      "readpig\n",
      "2\n",
      "readkylin\n",
      "3\n",
      "readcayenne\n",
      "4\n",
      "readfalcon\n",
      "5\n",
      "readuima-ducc\n",
      "6\n",
      "(19685, 25)\n"
     ]
    }
   ],
   "source": [
    "def getreport(projectnames):\n",
    "    projectdf = []\n",
    "    for items in (projectnames):\n",
    "        \n",
    "    # We first need the the project from the database\n",
    "        project = Project.objects(name=items).get()\n",
    "        issue_tracker = IssueSystem.objects(project_id=project.id).get()\n",
    "        dfin = pd.read_json(Issue.objects(issue_system_id=issue_tracker.id).to_json())\n",
    "        extid = issue_tracker.url.rsplit('=', 1)[1] # obtain the correct external_id for each repository to sort out invalid issues or logs\n",
    "        dfin = dfin[dfin.external_id.str.startswith(extid)]#print(projectdf)\n",
    "        print('read'+str(items))\n",
    "        projectdf.append(dfin)\n",
    "        print(len(projectdf))\n",
    "    #print(projectdf[0])    \n",
    "    df1 = pd.concat(projectdf)   \n",
    "    print(df1.shape)    \n",
    "    df = df1\n",
    "    \n",
    "    df['created_at'] = pd.json_normalize(df['created_at'])\n",
    "    df['updated_at'] = pd.json_normalize(df['updated_at'])\n",
    "    df['timetofix'] = (df.updated_at-df.created_at)/(100*60*60*24*30.41)\n",
    "    df=df[df.timetofix>0].copy()\n",
    "    # df['status'] = df['status'].replace('Closed', 1)\n",
    "    # df['status'] = df['status'].replace('In Progress', 0)\n",
    "    # df['status'] = df['status'].replace('Open', 0)\n",
    "    # df['status'] = df['status'].replace('Resolved', 1)\n",
    "    # df['status'] = df['status'].replace('Reopened', 0)\n",
    "    # df['status'] = df['status'].replace('Patch Available', 0)\n",
    "    df['status'] = np.where((((df['status'] == 'Closed')|(df['status'] == 'Resolved')) & (df['timetofix'] < 6)),  1,0)\n",
    "  \n",
    "    #df=df[['external_id', 'creator_id', 'issue_type', 'priority', 'status' , 'timetofix']]\n",
    "    df = df[[ 'creator_id', 'issue_type', 'priority', 'status', 'timetofix']]\n",
    "    df = df.dropna()\n",
    "    df = pd.get_dummies(data=df, columns=['priority', 'issue_type'])\n",
    "    \n",
    "    return(df)\n",
    "\n",
    "projects = ['calcite', 'pig', 'kylin', 'cayenne', 'falcon', 'uima-ducc',]\n",
    "df = getreport(projects)"
   ]
  },
  {
   "cell_type": "code",
   "execution_count": 4,
   "metadata": {},
   "outputs": [],
   "source": [
    "#df\n",
    "#sns.pairplot(df, y_vars=['status'])\n",
    "#df.head()\n",
    "#df.corr().style.background_gradient(cmap='coolwarm')"
   ]
  },
  {
   "cell_type": "code",
   "execution_count": 5,
   "metadata": {},
   "outputs": [],
   "source": [
    "# Entfernen von Außreisern\n",
    "#time_25 = df.describe().T.loc['timetofix', '25%']\n",
    "#time_75 = df.describe().T.loc['timetofix', '75%']\n",
    "\n",
    "#IQR_time = 1.5 * (time_75 - time_25)\n",
    "\n",
    "#df = df.query(' timetofix >= (@time_25 - @IQR_time) & timetofix <= (@time_75 + @IQR_time) ')\n",
    "\n",
    "# Zu berücksichtigende Merkmale und gesuchte Daten wählen\n",
    "y_class = df.status\n",
    "x_class = df.drop(columns=['creator_id','timetofix','status'])\n",
    "\n",
    "# In Training- und Testdaten aufteilen\n",
    "X_train, X_test, y_train, y_test = train_test_split(x_class, y_class, test_size=0.3) # 70% training and 30% test"
   ]
  },
  {
   "cell_type": "code",
   "execution_count": 6,
   "metadata": {},
   "outputs": [
    {
     "name": "stdout",
     "output_type": "stream",
     "text": [
      "6\n"
     ]
    }
   ],
   "source": [
    "old_acc = 0\n",
    "opt_k = 0\n",
    "for k in range(50):\n",
    "    k = k+1\n",
    "    knn = KNeighborsClassifier(n_neighbors = k)\n",
    "    knn.fit(X_train, y_train)\n",
    "    y_pred = knn.predict(X_test) \n",
    "    if old_acc < metrics.accuracy_score(y_test, y_pred):\n",
    "        old_acc = metrics.accuracy_score(y_test, y_pred)\n",
    "        opt_k = k\n",
    "    #print(k,metrics.accuracy_score(y_test, y_pred))\n",
    "print(opt_k)"
   ]
  },
  {
   "cell_type": "code",
   "execution_count": 7,
   "metadata": {},
   "outputs": [
    {
     "name": "stdout",
     "output_type": "stream",
     "text": [
      "Accuracy: 0.8011353556856484\n"
     ]
    }
   ],
   "source": [
    "knn = KNeighborsClassifier(n_neighbors = opt_k)\n",
    "knn.fit(X_train, y_train)\n",
    "\n",
    "y_pred = knn.predict(X_test) \n",
    "\n",
    "print(\"Accuracy:\",metrics.accuracy_score(y_test, y_pred))\n",
    "\n",
    "performance = pd.DataFrame({ 'True Value': y_test, 'Prediction': y_pred, 'Error': y_test - y_pred})\n",
    "#performance"
   ]
  },
  {
   "cell_type": "code",
   "execution_count": 8,
   "metadata": {},
   "outputs": [
    {
     "data": {
      "text/plain": [
       "<matplotlib.collections.LineCollection at 0x23d641bd150>"
      ]
     },
     "execution_count": 8,
     "metadata": {},
     "output_type": "execute_result"
    },
    {
     "data": {
      "image/png": "[encoded data removed]",
      "text/plain": [
       "<Figure size 432x288 with 1 Axes>"
      ]
     },
     "metadata": {
      "needs_background": "light"
     },
     "output_type": "display_data"
    }
   ],
   "source": [
    "plt.figure()\n",
    "# Errors\n",
    "ax_x = performance['True Value']\n",
    "ax_y = performance['Prediction']\n",
    "yerr = performance['Error']\n",
    "\n",
    "plt.scatter(range(len(yerr)), yerr, alpha=.5)\n",
    "plt.title('Homogeneous Errors - KNN', size=15)\n",
    "plt.hlines(y=0, xmin=0, xmax=6000, linestyle='--', color='white', alpha=.5)"
   ]
  },
  {
   "cell_type": "code",
   "execution_count": 9,
   "metadata": {},
   "outputs": [
    {
     "data": {
      "text/plain": [
       "((array([-3.66647956, -3.43301454, -3.30443342, ...,  3.30443342,\n",
       "          3.43301454,  3.66647956]),\n",
       "  array([-1,  0,  0, ...,  1,  1,  1])),\n",
       " (0.2797305598701468, 0.19850984566258648, 0.7000931005440246))"
      ]
     },
     "execution_count": 9,
     "metadata": {},
     "output_type": "execute_result"
    },
    {
     "data": {
      "image/png": "[encoded data removed]",
      "text/plain": [
       "<Figure size 432x288 with 1 Axes>"
      ]
     },
     "metadata": {
      "needs_background": "light"
     },
     "output_type": "display_data"
    }
   ],
   "source": [
    "from scipy.stats import probplot\n",
    "#QQ Plot\n",
    "probplot(yerr, dist='norm', plot=plt)"
   ]
  },
  {
   "cell_type": "code",
   "execution_count": 10,
   "metadata": {},
   "outputs": [
    {
     "name": "stdout",
     "output_type": "stream",
     "text": [
      "[[4514    1]\n",
      " [1120    2]]\n"
     ]
    },
    {
     "data": {
      "text/plain": [
       "Text(0.5, 103.73999999999997, 'Predicted label')"
      ]
     },
     "execution_count": 10,
     "metadata": {},
     "output_type": "execute_result"
    },
    {
     "data": {
      "image/png": "[encoded data removed]",
      "text/plain": [
       "<Figure size 648x648 with 2 Axes>"
      ]
     },
     "metadata": {
      "needs_background": "light"
     },
     "output_type": "display_data"
    }
   ],
   "source": [
    "cm = metrics.confusion_matrix(y_test, y_pred)\n",
    "print(cm)\n",
    "\n",
    "plt.figure(figsize=(9,9))\n",
    "sns.heatmap(cm, annot=True, fmt=\".3f\", linewidths=.5, square = True, cmap = 'Blues_r')\n",
    "plt.ylabel('Actual label')\n",
    "plt.xlabel('Predicted label')\n"
   ]
  }
 ],
 "metadata": {
  "kernelspec": {
   "display_name": "Python 3",
   "language": "python",
   "name": "python3"
  },
  "language_info": {
   "codemirror_mode": {
    "name": "ipython",
    "version": 3
   },
   "file_extension": ".py",
   "mimetype": "text/x-python",
   "name": "python",
   "nbconvert_exporter": "python",
   "pygments_lexer": "ipython3",
   "version": "3.10.4"
  },
  "orig_nbformat": 4,
  "vscode": {
   "interpreter": {
    "hash": "bb7958bde1d9b77eeab6e9977219b271fe7edf2f49f579cebc5c8d18d222e5fa"
   }
  }
 },
 "nbformat": 4,
 "nbformat_minor": 2
}
